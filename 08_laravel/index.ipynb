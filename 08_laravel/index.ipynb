{
 "cells": [
  {
   "cell_type": "markdown",
   "metadata": {},
   "source": [
    "# PHP 2020"
   ]
  },
  {
   "cell_type": "markdown",
   "metadata": {},
   "source": [
    "## 8. Laravel"
   ]
  },
  {
   "cell_type": "markdown",
   "metadata": {},
   "source": [
    "Links:\n",
    "\n",
    "- [Laravel](https://laravel.com/)\n",
    "- [Laracasts](https://laracasts.com/)\n",
    "- [Laravel - Routing](https://laravel.com/docs/8.x/routing)\n",
    "- [Laravel - Controllers](https://laravel.com/docs/8.x/controllers)\n",
    "- [Laravel - Views](https://laravel.com/docs/8.x/views)\n",
    "- [Laravel - Database](https://laravel.com/docs/8.x/database)\n",
    "- [Laravel - Eloquent](https://laravel.com/docs/8.x/eloquent)\n",
    "- [Codeception](https://codeception.com/)"
   ]
  },
  {
   "cell_type": "markdown",
   "metadata": {},
   "source": [
    "Tutorials:\n",
    "\n",
    "1. [Tutorial](01_tutorial/index.ipynb)"
   ]
  },
  {
   "cell_type": "markdown",
   "metadata": {},
   "source": [
    "Exercises:\n",
    "\n",
    "2. [Exercise](02_exercise/index.ipynb)"
   ]
  }
 ],
 "metadata": {
  "kernelspec": {
   "display_name": "Python 3",
   "language": "python",
   "name": "python3"
  },
  "language_info": {
   "codemirror_mode": {
    "name": "ipython",
    "version": 3
   },
   "file_extension": ".py",
   "mimetype": "text/x-python",
   "name": "python",
   "nbconvert_exporter": "python",
   "pygments_lexer": "ipython3",
   "version": "3.8.3"
  }
 },
 "nbformat": 4,
 "nbformat_minor": 4
}
