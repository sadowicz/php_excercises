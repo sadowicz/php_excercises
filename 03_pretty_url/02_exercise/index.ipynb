{
 "cells": [
  {
   "cell_type": "markdown",
   "metadata": {},
   "source": [
    "# PHP 2020"
   ]
  },
  {
   "cell_type": "markdown",
   "metadata": {},
   "source": [
    "## 3. Pretty URL"
   ]
  },
  {
   "cell_type": "markdown",
   "metadata": {},
   "source": [
    "### 3.2 Exercise"
   ]
  },
  {
   "cell_type": "markdown",
   "metadata": {},
   "source": [
    "Refactor the code to use ```$_SERVER['REQUEST_URI']``` to handle all requests in a single ```index.php``` script.\n",
    "\n",
    "Final project structure:\n",
    "\n",
    "```bash\n",
    "project/\n",
    "├── public\n",
    "│   ├── index.php\n",
    "│   └── style.css\n",
    "└── views\n",
    "    ├── 404.php\n",
    "    ├── about.php\n",
    "    ├── home.php\n",
    "    ├── layout.php\n",
    "    ├── menu.php\n",
    "    ├── user.php\n",
    "    └── users.php\n",
    "\n",
    "2 directories, 9 files\n",
    "```\n",
    "\n",
    "To start editing the code run:"
   ]
  },
  {
   "cell_type": "code",
   "execution_count": null,
   "metadata": {},
   "outputs": [
    {
     "name": "stdout",
     "output_type": "stream",
     "text": [
      "OpenJDK 64-Bit Server VM warning: Option UseConcMarkSweepGC was deprecated in version 9.0 and will likely be removed in a future release.\n",
      "2020-11-02 15:55:17,336 [  16717]   WARN - Container.ComponentManagerImpl - Do not use constructor injection (requestorClass=org.jetbrains.plugins.phpstorm.PhpStormInitialConfigurator) \n",
      "2020-11-02 15:55:25,992 [  25373]   WARN - .diagnostic.PerformanceWatcher - UI was frozen for 5749ms, details saved to /home/student/.cache/JetBrains/PhpStorm2020.2/log/threadDumps-freeze-20201102-155525-PS-202.6948.87-ClassLoader.defineClass1-5sec \n",
      "2020-11-02 15:55:49,168 [  48549]   WARN - .diagnostic.PerformanceWatcher - UI was frozen for 5662ms, details saved to /home/student/.cache/JetBrains/PhpStorm2020.2/log/threadDumps-freeze-20201102-155548-PS-202.6948.87-RandomAccessFile.readBytes-5sec \n",
      "2020-11-02 15:56:01,024 [  60405]   WARN - pl.local.NativeFileWatcherImpl - Watcher terminated with exit code 3 \n",
      "2020-11-02 15:56:01,174 [  60555]   WARN - pl.local.NativeFileWatcherImpl - Watcher terminated with exit code 3 \n",
      "2020-11-02 15:56:01,352 [  60733]   WARN - pl.local.NativeFileWatcherImpl - Watcher terminated with exit code 3 \n",
      "2020-11-02 15:56:01,477 [  60858]   WARN - pl.local.NativeFileWatcherImpl - Watcher terminated with exit code 3 \n",
      "2020-11-02 15:56:01,604 [  60985]   WARN - pl.local.NativeFileWatcherImpl - Watcher terminated with exit code 3 \n",
      "2020-11-02 15:56:01,728 [  61109]   WARN - pl.local.NativeFileWatcherImpl - Watcher terminated with exit code 3 \n",
      "2020-11-02 15:56:01,908 [  61289]   WARN - pl.local.NativeFileWatcherImpl - Watcher terminated with exit code 3 \n",
      "2020-11-02 15:56:02,072 [  61453]   WARN - pl.local.NativeFileWatcherImpl - Watcher terminated with exit code 3 \n",
      "2020-11-02 15:56:02,285 [  61666]   WARN - pl.local.NativeFileWatcherImpl - Watcher terminated with exit code 3 \n",
      "2020-11-02 15:56:02,433 [  61814]   WARN - pl.local.NativeFileWatcherImpl - Watcher terminated with exit code 3 \n",
      "2020-11-02 15:56:02,433 [  61814]   WARN - api.vfs.impl.local.FileWatcher - File watcher failed to start \n",
      "2020-11-02 15:58:30,163 [ 209544]   WARN -    #com.jetbrains.php.PhpIndex - Completing type '#π#F\\explode≥/~' took 514ms, visited:[#π#F\\explode≥/~, #F\\explode] \n",
      "2020-11-02 15:58:30,163 [ 209544]   WARN -    #com.jetbrains.php.PhpIndex - Completing type '#π#F\\explode≥/~' took 507ms, visited:[#π#F\\explode≥/~, #F\\explode] \n",
      "2020-11-02 16:13:57,263 [1136644]  ERROR - rm.terminal.model.JediTerminal - Unsupported erase in display mode:3 \n",
      "2020-11-02 16:14:56,363 [1195744]  ERROR - rm.terminal.model.JediTerminal - Unsupported erase in display mode:3 \n",
      "2020-11-02 16:15:16,012 [1215393]  ERROR - rm.terminal.model.JediTerminal - Unsupported erase in display mode:3 \n",
      "2020-11-02 16:18:08,112 [1387493]  ERROR - rm.terminal.model.JediTerminal - Unsupported erase in display mode:3 \n",
      "2020-11-02 16:20:21,906 [1521287]  ERROR - rm.terminal.model.JediTerminal - Unsupported erase in display mode:3 \n",
      "2020-11-02 16:20:30,812 [1530193]  ERROR - rm.terminal.model.JediTerminal - Unsupported erase in display mode:3 \n",
      "2020-11-02 16:21:28,652 [1588033]  ERROR - rm.terminal.model.JediTerminal - Unsupported erase in display mode:3 \n",
      "2020-11-02 16:26:29,887 [1889268]  ERROR - rm.terminal.model.JediTerminal - Unsupported erase in display mode:3 \n"
     ]
    }
   ],
   "source": [
    "! phpstorm project"
   ]
  },
  {
   "cell_type": "markdown",
   "metadata": {},
   "source": [
    "You can test your solution using included tests:"
   ]
  },
  {
   "cell_type": "code",
   "execution_count": null,
   "metadata": {},
   "outputs": [],
   "source": [
    "import subprocess\n",
    "phpServer = subprocess.Popen(['php', '-S', 'localhost:8888', '-t', 'project/public'])"
   ]
  },
  {
   "cell_type": "code",
   "execution_count": null,
   "metadata": {},
   "outputs": [],
   "source": [
    "! cd tests && composer install && vendor/bin/codecept run"
   ]
  },
  {
   "cell_type": "code",
   "execution_count": null,
   "metadata": {},
   "outputs": [],
   "source": [
    "phpServer.kill()"
   ]
  }
 ],
 "metadata": {
  "kernelspec": {
   "display_name": "Python 3",
   "language": "python",
   "name": "python3"
  },
  "language_info": {
   "codemirror_mode": {
    "name": "ipython",
    "version": 3
   },
   "file_extension": ".py",
   "mimetype": "text/x-python",
   "name": "python",
   "nbconvert_exporter": "python",
   "pygments_lexer": "ipython3",
   "version": "3.8.3"
  }
 },
 "nbformat": 4,
 "nbformat_minor": 4
}
