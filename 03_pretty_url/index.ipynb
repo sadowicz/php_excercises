{
 "cells": [
  {
   "cell_type": "markdown",
   "metadata": {},
   "source": [
    "# PHP 2020"
   ]
  },
  {
   "cell_type": "markdown",
   "metadata": {},
   "source": [
    "## 3. Pretty URL"
   ]
  },
  {
   "cell_type": "markdown",
   "metadata": {},
   "source": [
    "Links:\n",
    "\n",
    "- [require](https://www.php.net/manual/en/function.require.php)\n",
    "- [include](https://www.php.net/manual/en/function.include.php)\n",
    "- [require-once](https://www.php.net/manual/en/function.require-once.php)\n",
    "- [include-once](https://www.php.net/manual/en/function.include-once.php)\n",
    "- [$\\_SERVER](https://www.php.net/reserved.variables.server)"
   ]
  },
  {
   "cell_type": "markdown",
   "metadata": {},
   "source": [
    "Tutorials:\n",
    "\n",
    "1. [Tutorial](01_tutorial/index.ipynb)"
   ]
  },
  {
   "cell_type": "markdown",
   "metadata": {},
   "source": [
    "Exercises:\n",
    "\n",
    "2. [Exercise](02_exercise/index.ipynb)"
   ]
  }
 ],
 "metadata": {
  "kernelspec": {
   "display_name": "Python 3",
   "language": "python",
   "name": "python3"
  },
  "language_info": {
   "codemirror_mode": {
    "name": "ipython",
    "version": 3
   },
   "file_extension": ".py",
   "mimetype": "text/x-python",
   "name": "python",
   "nbconvert_exporter": "python",
   "pygments_lexer": "ipython3",
   "version": "3.8.3"
  }
 },
 "nbformat": 4,
 "nbformat_minor": 4
}
