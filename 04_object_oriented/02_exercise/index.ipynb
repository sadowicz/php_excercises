{
 "cells": [
  {
   "cell_type": "markdown",
   "metadata": {},
   "source": [
    "# PHP 2020"
   ]
  },
  {
   "cell_type": "markdown",
   "metadata": {},
   "source": [
    "## 4. Object-Oriented Programming"
   ]
  },
  {
   "cell_type": "markdown",
   "metadata": {},
   "source": [
    "### 4.2 Exercise"
   ]
  },
  {
   "cell_type": "markdown",
   "metadata": {},
   "source": [
    "Implement the below class diagram."
   ]
  },
  {
   "cell_type": "code",
   "execution_count": null,
   "metadata": {},
   "outputs": [],
   "source": [
    "import iplantuml;"
   ]
  },
  {
   "cell_type": "code",
   "execution_count": null,
   "metadata": {},
   "outputs": [],
   "source": [
    "%%plantuml\n",
    "\n",
    "@startuml\n",
    "\n",
    "class App {\n",
    "    + run()\n",
    "    - render(Widget\\Widget)\n",
    "}\n",
    "\n",
    "note as AppNote\n",
    "1. Creates storage object.\n",
    "2. Creates several widgets.\n",
    "3. Stores widgets into storage.\n",
    "4. Loads widgets from storage.\n",
    "5. Draws widgets using render method.\n",
    "end note\n",
    "\n",
    "App .. AppNote\n",
    "\n",
    "namespace Widget {\n",
    "\n",
    "    abstract class Widget {\n",
    "        + draw()\n",
    "    }\n",
    "\n",
    "    class Link {\n",
    "        + draw()\n",
    "    }\n",
    "\n",
    "    note as LinkNote\n",
    "    Prints link HTML using echo command.\n",
    "    Example: <a href=\"\">widget_link_1</a>\n",
    "    end note\n",
    "\n",
    "    Link .. LinkNote\n",
    "\n",
    "    class Button {\n",
    "        + draw()\n",
    "    }\n",
    "\n",
    "    note as ButtonNote\n",
    "    Prints button HTML using echo command.\n",
    "    Example: <input type=\"button\" value=\"widget_button_2\">\n",
    "    end note\n",
    "\n",
    "    Button .. ButtonNote\n",
    "\n",
    "    Widget <|-- Link\n",
    "    Widget <|-- Button\n",
    "}\n",
    "\n",
    "App ..> Widget.Widget : draws\n",
    "App ..> Widget.Button : creates\n",
    "App ..> Widget.Link : creates\n",
    "\n",
    "namespace Concept {\n",
    "\n",
    "    abstract class Distinguishable {\n",
    "        - id\n",
    "        + key() : string\n",
    "        - normalize(string)\n",
    "    }\n",
    "\n",
    "    note as DistinguishableNote\n",
    "    Creates unique key for every objects.\n",
    "    Takes id in constructor and combines it with type names.\n",
    "    Example: widget_link_1, widget_button_2\n",
    "    Uses static::class to get type of deriving class.\n",
    "    end note\n",
    "\n",
    "    Distinguishable .. DistinguishableNote\n",
    "}\n",
    "\n",
    "Concept.Distinguishable <|-- Widget.Widget\n",
    "\n",
    "namespace Config {\n",
    "\n",
    "    class Directory {\n",
    "        - {static} root\n",
    "        + {static} set(string)\n",
    "        + {static} root() : string\n",
    "        + {static} storage() : string\n",
    "        + {static} view() : string\n",
    "        + {static} src() : string\n",
    "    }\n",
    "\n",
    "    note as DirectoryNote\n",
    "    Used to set path to main directory in index.php.\n",
    "    Return path to storage/ and views/ directory.\n",
    "    end note\n",
    "\n",
    "    Directory .. DirectoryNote\n",
    "}\n",
    "\n",
    "namespace Storage {\n",
    "\n",
    "    interface Storage {\n",
    "        + store(Distinguishable)\n",
    "        + loadAll() : array\n",
    "    }\n",
    "\n",
    "    class FileStorage {\n",
    "        + store(Distinguishable)\n",
    "        + loadAll() : array\n",
    "    }\n",
    "\n",
    "    note as FileStorageNote\n",
    "    Stores serialized objects in storage/ directory.\n",
    "    Example file storage/widget_button_2 contains\n",
    "    serialized object of type Button with id 2.\n",
    "    end note\n",
    "\n",
    "    FileStorage .. FileStorageNote\n",
    "\n",
    "    Storage <|-- FileStorage\n",
    "}\n",
    "\n",
    "Storage.Storage ..> Concept.Distinguishable : stores/loads\n",
    "Storage.FileStorage ..> Config.Directory : uses\n",
    "\n",
    "App ..> Storage.FileStorage : creates\n",
    "App ..> Storage.Storage : uses\n",
    "\n",
    "package index.php <<Rectangle>> {\n",
    "}\n",
    "\n",
    "index.php ..> App : creates\n",
    "index.php ..> Config.Directory : configures\n",
    "\n",
    "@enduml"
   ]
  },
  {
   "cell_type": "code",
   "execution_count": null,
   "metadata": {},
   "outputs": [],
   "source": [
    "! phpstorm project"
   ]
  },
  {
   "cell_type": "markdown",
   "metadata": {},
   "source": [
    "You can test your solution using included tests:"
   ]
  },
  {
   "cell_type": "code",
   "execution_count": null,
   "metadata": {},
   "outputs": [],
   "source": [
    "import subprocess\n",
    "phpServer = subprocess.Popen(['php', '-S', 'localhost:8888', '-t', 'project/public'])"
   ]
  },
  {
   "cell_type": "code",
   "execution_count": null,
   "metadata": {},
   "outputs": [],
   "source": [
    "! cd tests && composer install && vendor/bin/codecept run"
   ]
  },
  {
   "cell_type": "code",
   "execution_count": null,
   "metadata": {},
   "outputs": [],
   "source": [
    "phpServer.kill()"
   ]
  }
 ],
 "metadata": {
  "kernelspec": {
   "display_name": "Python 3",
   "language": "python",
   "name": "python3"
  },
  "language_info": {
   "codemirror_mode": {
    "name": "ipython",
    "version": 3
   },
   "file_extension": ".py",
   "mimetype": "text/x-python",
   "name": "python",
   "nbconvert_exporter": "python",
   "pygments_lexer": "ipython3",
   "version": "3.8.3"
  }
 },
 "nbformat": 4,
 "nbformat_minor": 4
}
