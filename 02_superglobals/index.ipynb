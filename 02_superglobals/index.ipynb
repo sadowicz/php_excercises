{
 "cells": [
  {
   "cell_type": "markdown",
   "metadata": {},
   "source": [
    "# PHP 2020"
   ]
  },
  {
   "cell_type": "markdown",
   "metadata": {},
   "source": [
    "## 2. Superglobals"
   ]
  },
  {
   "cell_type": "markdown",
   "metadata": {},
   "source": [
    "This lesson introduces the superglobal variables:\n",
    "\n",
    "- \\$\\_GET\n",
    "- \\$\\_POST\n",
    "- \\$\\_COOKIE\n",
    "- \\$\\_SESSION"
   ]
  },
  {
   "cell_type": "markdown",
   "metadata": {},
   "source": [
    "### $\\_GET\n",
    "\n",
    "Set directly in URL. Example:\n",
    "\n",
    "```php\n",
    "index.php?x=1&y=2\n",
    "```\n",
    "\n",
    "Will set:\n",
    "\n",
    "```php\n",
    "$_GET['x'] == 1\n",
    "$_GET['y'] == 2\n",
    "```"
   ]
  },
  {
   "cell_type": "markdown",
   "metadata": {},
   "source": [
    "\n",
    "### $\\_POST\n",
    "\n",
    "HTTP form data with POST method. Example:\n",
    "\n",
    "```html\n",
    "<form method=\"post\">\n",
    "    <input type=\"text\" name=\"foo\">\n",
    "    <input type=\"submit\" value=\"Change\">\n",
    "</form>\n",
    "```\n",
    "After form is submitted value chan be obtained from:\n",
    "\n",
    "```php\n",
    "$_POST['foo']\n",
    "```"
   ]
  },
  {
   "cell_type": "markdown",
   "metadata": {},
   "source": [
    "\n",
    "### $\\_SESSION\n",
    "\n",
    "Values stay on server side and are available between multiple requests\n",
    "\n",
    "```php\n",
    "$_SESSION['key'] = 12;\n",
    "```\n",
    "Remember to start session before first use:\n",
    "\n",
    "```php\n",
    "session_start();\n",
    "```"
   ]
  },
  {
   "cell_type": "markdown",
   "metadata": {},
   "source": [
    "### $\\_COOKIE\n",
    "\n",
    "Values stored on client side - will be visible in next request.\n",
    "To set cookie use:\n",
    "\n",
    "```php\n",
    "setcookie('key', 'value');\n",
    "```\n",
    "To read value:\n",
    "\n",
    "```php\n",
    "$_COOKIE['key']\n",
    "```"
   ]
  },
  {
   "cell_type": "markdown",
   "metadata": {},
   "source": [
    "Tutorials:\n",
    "\n",
    "1. [Arrays](01_arrays/index.ipynb)"
   ]
  },
  {
   "cell_type": "markdown",
   "metadata": {},
   "source": [
    "Exercises:\n",
    "\n",
    "2. [Chessboard](02_chessboard/index.ipynb)"
   ]
  }
 ],
 "metadata": {
  "kernelspec": {
   "display_name": "Python 3",
   "language": "python",
   "name": "python3"
  },
  "language_info": {
   "codemirror_mode": {
    "name": "ipython",
    "version": 3
   },
   "file_extension": ".py",
   "mimetype": "text/x-python",
   "name": "python",
   "nbconvert_exporter": "python",
   "pygments_lexer": "ipython3",
   "version": "3.8.3"
  }
 },
 "nbformat": 4,
 "nbformat_minor": 4
}
