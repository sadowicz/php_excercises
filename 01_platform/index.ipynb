{
 "cells": [
  {
   "cell_type": "markdown",
   "metadata": {},
   "source": [
    "# PHP 2020"
   ]
  },
  {
   "cell_type": "markdown",
   "metadata": {},
   "source": [
    "## 1. Platform"
   ]
  },
  {
   "cell_type": "markdown",
   "metadata": {},
   "source": [
    "<img src=\"https://www.docker.com/sites/default/files/d8/2019-07/horizontal-logo-monochromatic-white.png\" width=\"50%\"/>"
   ]
  },
  {
   "cell_type": "markdown",
   "metadata": {},
   "source": [
    "This lesson introduces the platform used throughout the course. "
   ]
  },
  {
   "cell_type": "markdown",
   "metadata": {},
   "source": [
    "First, and most important aspect is the use of [Docker](https://www.docker.com/). There are several images prepared for the classes - the full list can be found in the [Docker Hub](https://hub.docker.com/) repository [ddgg/php_2020](https://hub.docker.com/r/ddgg/php_2020/tags). The environment might look a bit complicated at first sight, but it has many benefits such as reproducibility, traceability by version control systems or the ease of deployment in the cloud."
   ]
  },
  {
   "cell_type": "markdown",
   "metadata": {},
   "source": [
    "The first container in the hierarchy is the **base_v1** container, which adds the appropriate user to the [ubuntu](https://hub.docker.com/_/ubuntu?tab=tags) image. Next, the **build_v1** image adds ```php``` interpreter. The **dev_v1** image adds tools like ```vim``` and ```firefox```. The **ide_v1** image adds ```phpstorm```, and the **notes_v1** installs ```jupyter``` notebook. This notebook runs in the most complex version of the image with the **notes_v1** tag. "
   ]
  },
  {
   "cell_type": "markdown",
   "metadata": {},
   "source": [
    "The images also allow running ```docker``` and ```docker-compose``` inside containers. It will be handy in later parts of the course for running a dedicated database or web server. The initial classes will not require any knowledge of those tools."
   ]
  },
  {
   "cell_type": "markdown",
   "metadata": {},
   "source": [
    "Tutorials:\n",
    "\n",
    "1. [Interpreter](01_interpreter/index.ipynb)\n",
    "2. [Variables and Prints](02_variables_and_prints/index.ipynb)\n",
    "3. [PhpStorm](03_phpstorm/index.ipynb)\n",
    "\n",
    "Exercises:\n",
    "\n",
    "4. [Login Form](04_login_form/index.ipynb)"
   ]
  }
 ],
 "metadata": {
  "kernelspec": {
   "display_name": "Python 3",
   "language": "python",
   "name": "python3"
  },
  "language_info": {
   "codemirror_mode": {
    "name": "ipython",
    "version": 3
   },
   "file_extension": ".py",
   "mimetype": "text/x-python",
   "name": "python",
   "nbconvert_exporter": "python",
   "pygments_lexer": "ipython3",
   "version": "3.8.3"
  }
 },
 "nbformat": 4,
 "nbformat_minor": 4
}
