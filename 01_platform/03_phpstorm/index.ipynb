{
 "cells": [
  {
   "cell_type": "markdown",
   "metadata": {},
   "source": [
    "# PHP 2020"
   ]
  },
  {
   "cell_type": "markdown",
   "metadata": {},
   "source": [
    "## 1. Platform"
   ]
  },
  {
   "cell_type": "markdown",
   "metadata": {},
   "source": [
    "### 1.3. PhpStorm"
   ]
  },
  {
   "cell_type": "markdown",
   "metadata": {},
   "source": [
    "#### Initial Setup"
   ]
  },
  {
   "cell_type": "markdown",
   "metadata": {},
   "source": [
    "Let's create new directory with single PHP file and open the directory using PhpStorm. When IDE starts add following code:"
   ]
  },
  {
   "cell_type": "markdown",
   "metadata": {},
   "source": [
    "```php\n",
    "<?php\n",
    "\n",
    "$i = 10;\n",
    "$i = $i + 10;\n",
    "echo \"Result: <strong>$i</strong>\";\n",
    "```"
   ]
  },
  {
   "cell_type": "markdown",
   "metadata": {},
   "source": [
    "When done, close the editor."
   ]
  },
  {
   "cell_type": "code",
   "execution_count": null,
   "metadata": {},
   "outputs": [],
   "source": [
    "! mkdir project && touch project/index.php && phpstorm project"
   ]
  },
  {
   "cell_type": "markdown",
   "metadata": {},
   "source": [
    "<img src=\"01_initial/01_user_agreement.jpg\"/>\n",
    "<img src=\"01_initial/02_data_sharing.jpg\"/>\n",
    "<img src=\"01_initial/03_select_light_theme.jpg\"/>\n",
    "<img src=\"01_initial/04_launcher_script.jpg\"/>\n",
    "<img src=\"01_initial/05_featured_plugins.jpg\"/>\n",
    "<img src=\"01_initial/06_evaluate.jpg\"/>\n",
    "<img src=\"01_initial/07_no_tips.jpg\"/>\n",
    "<img src=\"01_initial/08_ide_ready.jpg\"/>\n",
    "<img src=\"01_initial/09_adding_code.jpg\"/>\n",
    "<img src=\"01_initial/10_exit.jpg\"/>"
   ]
  },
  {
   "cell_type": "markdown",
   "metadata": {},
   "source": [
    "Now you should be able to run the code:"
   ]
  },
  {
   "cell_type": "code",
   "execution_count": null,
   "metadata": {},
   "outputs": [],
   "source": [
    "! php project/index.php"
   ]
  },
  {
   "cell_type": "markdown",
   "metadata": {},
   "source": [
    "All the project files are stored inside the **.idea** directory:"
   ]
  },
  {
   "cell_type": "code",
   "execution_count": null,
   "metadata": {},
   "outputs": [],
   "source": [
    "! ls -la project"
   ]
  },
  {
   "cell_type": "markdown",
   "metadata": {},
   "source": [
    "You can remove this direrectory if something wrong happens in the IDE.\n",
    "\n",
    "When opening project for the second time it should restore previous state."
   ]
  },
  {
   "cell_type": "markdown",
   "metadata": {},
   "source": [
    "#### Configuring the PHP Interpreter"
   ]
  },
  {
   "cell_type": "markdown",
   "metadata": {},
   "source": [
    "To run the code from inside the IDE we can configure the PHP interpreter:"
   ]
  },
  {
   "cell_type": "code",
   "execution_count": null,
   "metadata": {},
   "outputs": [],
   "source": [
    "! phpstorm project"
   ]
  },
  {
   "cell_type": "markdown",
   "metadata": {},
   "source": [
    "<img src=\"02_interpreter/01_settings.jpg\"/>\n",
    "<img src=\"02_interpreter/02_language_and_framework.jpg\"/>\n",
    "<img src=\"02_interpreter/03_add_interpreter.jpg\"/>\n",
    "<img src=\"02_interpreter/04_select_usr_bin_php.jpg\"/>\n",
    "<img src=\"02_interpreter/05_visible_only_to_this_project.jpg\"/>\n",
    "<img src=\"02_interpreter/06_confirm_interpreter.jpg\"/>\n",
    "<img src=\"02_interpreter/07_selecting_language_version.jpg\"/>\n",
    "<img src=\"02_interpreter/08_save_interpreter.jpg\"/>\n",
    "<img src=\"02_interpreter/09_run_using_interpreter.jpg\"/>\n",
    "<img src=\"02_interpreter/10_results_in_console.jpg\"/>\n",
    "<img src=\"02_interpreter/11_exit.jpg\"/>"
   ]
  },
  {
   "cell_type": "markdown",
   "metadata": {},
   "source": [
    "#### Debugging simple scripts"
   ]
  },
  {
   "cell_type": "markdown",
   "metadata": {},
   "source": [
    "Debugging for simple scripts should work right out of the box:"
   ]
  },
  {
   "cell_type": "code",
   "execution_count": null,
   "metadata": {},
   "outputs": [],
   "source": [
    "! phpstorm project"
   ]
  },
  {
   "cell_type": "markdown",
   "metadata": {},
   "source": [
    "<img src=\"03_cli_debug/01_click_on_line_number.jpg\"/>\n",
    "<img src=\"03_cli_debug/02_click_debug.jpg\"/>\n",
    "<img src=\"03_cli_debug/03_step_over.jpg\"/>\n",
    "<img src=\"03_cli_debug/04_set_value.jpg\"/>\n",
    "<img src=\"03_cli_debug/05_new_value_set.jpg\"/>\n",
    "<img src=\"03_cli_debug/06_resume_program.jpg\"/>\n",
    "<img src=\"03_cli_debug/07_program_finished.jpg\"/>\n",
    "<img src=\"03_cli_debug/08_console_result.jpg\"/>\n",
    "<img src=\"03_cli_debug/09_exit.jpg\"/>"
   ]
  },
  {
   "cell_type": "markdown",
   "metadata": {},
   "source": [
    "#### Running webserver"
   ]
  },
  {
   "cell_type": "markdown",
   "metadata": {},
   "source": [
    "It is done in the same way as from the command line - using built-in PHP server:"
   ]
  },
  {
   "cell_type": "code",
   "execution_count": null,
   "metadata": {
    "scrolled": true
   },
   "outputs": [],
   "source": [
    "! phpstorm project"
   ]
  },
  {
   "cell_type": "markdown",
   "metadata": {},
   "source": [
    "<img src=\"04_server/01_open_terminal.jpg\"/>\n",
    "<img src=\"04_server/02_starting_integrated_php_server.jpg\"/>\n",
    "<img src=\"04_server/03_error_after_clicking_on_the_link.jpg\"/>\n",
    "<img src=\"04_server/04_move_firefox_up.jpg\"/>\n",
    "<img src=\"04_server/05_disble_other_browsers_and_click_ok.jpg\"/>\n",
    "<img src=\"04_server/06_click_the_link.jpg\"/>\n",
    "<img src=\"04_server/07_results_visible_in_browser.jpg\"/>\n",
    "<img src=\"04_server/08_close_browser.jpg\"/>\n",
    "<img src=\"04_server/09_ctrl_plus_c_in_the_terminal_to_stop_server.jpg\"/>\n",
    "<img src=\"04_server/10_exit.jpg\"/>"
   ]
  },
  {
   "cell_type": "markdown",
   "metadata": {},
   "source": [
    "#### Debugging in webserver"
   ]
  },
  {
   "cell_type": "code",
   "execution_count": null,
   "metadata": {},
   "outputs": [],
   "source": [
    "! phpstorm project"
   ]
  },
  {
   "cell_type": "markdown",
   "metadata": {},
   "source": [
    "**Important!** Do not forget to click the telephone icon in the upper-right corner of the PhpStorm IDE."
   ]
  },
  {
   "cell_type": "markdown",
   "metadata": {},
   "source": [
    "<img src=\"05_web_debug/01_run_server_and_start_listening.jpg\"/>\n",
    "<img src=\"05_web_debug/02_open_new_terminal.jpg\"/>\n",
    "<img src=\"05_web_debug/03_run_xdebug_helper_instalanation.jpg\"/>\n",
    "<img src=\"05_web_debug/04_add_plugin.jpg\"/>\n",
    "<img src=\"05_web_debug/05_allow_in_private_windows.jpg\"/>\n",
    "<img src=\"05_web_debug/06_close_firefox.jpg\"/>\n",
    "<img src=\"05_web_debug/07_close_terminal.jpg\"/>\n",
    "<img src=\"05_web_debug/08_click_on_the_link.jpg\"/>\n",
    "<img src=\"05_web_debug/09_refresh_if_xdebug_icon_is_not_visible.jpg\"/>\n",
    "<img src=\"05_web_debug/10_enable_debuging.jpg\"/>\n",
    "<img src=\"05_web_debug/11_refresh_page.jpg\"/>\n",
    "<img src=\"05_web_debug/12_accept_incomming_session.jpg\"/>\n",
    "<img src=\"05_web_debug/13_step_over.jpg\"/>\n",
    "<img src=\"05_web_debug/14_set_value.jpg\"/>\n",
    "<img src=\"05_web_debug/15_enter_value.jpg\"/>\n",
    "<img src=\"05_web_debug/16_firefox_still_waits.jpg\"/>\n",
    "<img src=\"05_web_debug/17_resume.jpg\"/>\n",
    "<img src=\"05_web_debug/18_firefox_done_and_disable_debuging.jpg\"/>\n",
    "<img src=\"05_web_debug/19_ide_done_and_disable_debuging.jpg\"/>\n",
    "<img src=\"05_web_debug/20_close_firefox.jpg\"/>\n",
    "<img src=\"05_web_debug/21_go_to_terminal.jpg\"/>\n",
    "<img src=\"05_web_debug/22_ctrl_plus_c_and_close_ide.jpg\"/>\n",
    "<img src=\"05_web_debug/23_exit.jpg\"/>"
   ]
  },
  {
   "cell_type": "markdown",
   "metadata": {},
   "source": [
    "#### Configuring webserver run-configuration"
   ]
  },
  {
   "cell_type": "code",
   "execution_count": null,
   "metadata": {},
   "outputs": [],
   "source": [
    "! phpstorm project"
   ]
  },
  {
   "cell_type": "markdown",
   "metadata": {},
   "source": [
    "<img src=\"06_webserver_config/01_edit_run_configuration.jpg\"/>\n",
    "<img src=\"06_webserver_config/02_add_new.jpg\"/>\n",
    "<img src=\"06_webserver_config/03_new_php_web_page.jpg\"/>\n",
    "<img src=\"06_webserver_config/04_set_name_and_click_on_server_configuration.jpg\"/>\n",
    "<img src=\"06_webserver_config/05_adding_server_configuration.jpg\"/>\n",
    "<img src=\"06_webserver_config/06_click_ok.jpg\"/>\n",
    "<img src=\"06_webserver_config/07_run_project.jpg\"/>\n",
    "<img src=\"06_webserver_config/08_page_visible_in_firefox.jpg\"/>\n",
    "<img src=\"06_webserver_config/09_trying_debugging.jpg\"/>\n",
    "<img src=\"06_webserver_config/10_firefox_appeared.jpg\"/>\n",
    "<img src=\"06_webserver_config/11_resume_program.jpg\"/>\n",
    "<img src=\"06_webserver_config/12_firefox_done_with_xdebug_session_in_get_parameter.jpg\"/>\n",
    "<img src=\"06_webserver_config/13_closing_ide.jpg\"/>\n",
    "<img src=\"06_webserver_config/14_exit.jpg\"/>\n",
    "<img src=\"06_webserver_config/15_terminate.jpg\"/>"
   ]
  },
  {
   "cell_type": "markdown",
   "metadata": {},
   "source": [
    "#### Miscellaneous"
   ]
  },
  {
   "cell_type": "code",
   "execution_count": null,
   "metadata": {},
   "outputs": [],
   "source": [
    "! phpstorm project"
   ]
  },
  {
   "cell_type": "markdown",
   "metadata": {},
   "source": [
    "<img src=\"07_misc/01_settings.jpg\"/>\n",
    "<img src=\"07_misc/02_selecting_favorite_keymap.jpg\"/>\n",
    "<img src=\"07_misc/03_change_font_with_ctrl_plus_mouse_wheel.jpg\"/>\n",
    "<img src=\"07_misc/04_save_changes.jpg\"/>\n",
    "<img src=\"07_misc/05_zoomed_font_in_editor.jpg\"/>\n",
    "<img src=\"07_misc/06_exit.jpg\"/>"
   ]
  },
  {
   "cell_type": "code",
   "execution_count": null,
   "metadata": {},
   "outputs": [],
   "source": [
    "! rm -rf project"
   ]
  }
 ],
 "metadata": {
  "kernelspec": {
   "display_name": "Python 3",
   "language": "python",
   "name": "python3"
  },
  "language_info": {
   "codemirror_mode": {
    "name": "ipython",
    "version": 3
   },
   "file_extension": ".py",
   "mimetype": "text/x-python",
   "name": "python",
   "nbconvert_exporter": "python",
   "pygments_lexer": "ipython3",
   "version": "3.8.3"
  }
 },
 "nbformat": 4,
 "nbformat_minor": 4
}
