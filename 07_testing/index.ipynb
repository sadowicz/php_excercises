{
 "cells": [
  {
   "cell_type": "markdown",
   "metadata": {},
   "source": [
    "# PHP 2020"
   ]
  },
  {
   "cell_type": "markdown",
   "metadata": {},
   "source": [
    "## 7. Testing"
   ]
  },
  {
   "cell_type": "markdown",
   "metadata": {},
   "source": [
    "Links:\n",
    "\n",
    "- [Codeception](https://codeception.com/)\n",
    "- [Codeception - Asserts](https://codeception.com/docs/modules/Asserts)\n",
    "- [Codeception - PhpBrowser](https://codeception.com/docs/modules/PhpBrowser)\n",
    "- [Codeception - Filesystem](https://codeception.com/docs/modules/Filesystem)\n",
    "- [Codeception - Db](https://codeception.com/docs/modules/Db)\n",
    "- [Codeception - Redis](https://codeception.com/docs/modules/Redis)\n",
    "- [Codeception - WebDriver](https://codeception.com/docs/modules/WebDriver)"
   ]
  },
  {
   "cell_type": "markdown",
   "metadata": {},
   "source": [
    "Tutorials:\n",
    "\n",
    "1. [Tutorial](01_tutorial/index.ipynb)"
   ]
  },
  {
   "cell_type": "markdown",
   "metadata": {},
   "source": [
    "Exercises:\n",
    "\n",
    "2. [Exercise](02_exercise/index.ipynb)"
   ]
  }
 ],
 "metadata": {
  "kernelspec": {
   "display_name": "Python 3",
   "language": "python",
   "name": "python3"
  },
  "language_info": {
   "codemirror_mode": {
    "name": "ipython",
    "version": 3
   },
   "file_extension": ".py",
   "mimetype": "text/x-python",
   "name": "python",
   "nbconvert_exporter": "python",
   "pygments_lexer": "ipython3",
   "version": "3.8.3"
  }
 },
 "nbformat": 4,
 "nbformat_minor": 4
}
