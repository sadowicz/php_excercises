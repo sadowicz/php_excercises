{
 "cells": [
  {
   "cell_type": "markdown",
   "metadata": {},
   "source": [
    "# PHP 2020"
   ]
  },
  {
   "cell_type": "markdown",
   "metadata": {},
   "source": [
    "<img src=\"https://www.php.net/images/logos/new-php-logo.svg\" width=\"40%\"/>"
   ]
  },
  {
   "cell_type": "markdown",
   "metadata": {},
   "source": [
    "Welcome to the PHP course!"
   ]
  },
  {
   "cell_type": "markdown",
   "metadata": {},
   "source": [
    "The [Jupyter](https://jupyter.org/) notebooks will be used throughout the course to organise the exercises.  The instructions will be usually minimal, and the focus will be put on practical coding aspects. There will be two types of notebooks used in PHP course: tutorial notebooks with bash commands (Python 3 kernel) and notebooks with pure PHP code (PHP kernel). The type of used kernel can be found in the upper-right corner."
   ]
  },
  {
   "cell_type": "markdown",
   "metadata": {},
   "source": [
    "To start working with the course material, select one of below topics:\n",
    "\n",
    "01. [Platform](01_platform/index.ipynb)\n",
    "02. [Superglobals](02_superglobals/index.ipynb)\n",
    "03. [Pretty URL](03_pretty_url/index.ipynb)\n",
    "04. [Object-Oriented Programming](04_object_oriented/index.ipynb)\n",
    "05. [PHP Data Objects](05_data_objects/index.ipynb)\n",
    "06. [Dependency Manager](06_dependency_manager/index.ipynb)\n",
    "07. [Testing](07_testing/index.ipynb)\n",
    "08. [Laravel](08_laravel/index.ipynb)\n",
    "09. [Laravel TDD](09_laravel_tdd/index.ipynb)\n",
    "10. [Laravel TDD](10_laravel_tdd/index.ipynb)"
   ]
  }
 ],
 "metadata": {
  "kernelspec": {
   "display_name": "Python 3",
   "language": "python",
   "name": "python3"
  },
  "language_info": {
   "codemirror_mode": {
    "name": "ipython",
    "version": 3
   },
   "file_extension": ".py",
   "mimetype": "text/x-python",
   "name": "python",
   "nbconvert_exporter": "python",
   "pygments_lexer": "ipython3",
   "version": "3.8.3"
  }
 },
 "nbformat": 4,
 "nbformat_minor": 4
}
