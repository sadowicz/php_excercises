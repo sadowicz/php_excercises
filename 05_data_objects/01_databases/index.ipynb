{
 "cells": [
  {
   "cell_type": "markdown",
   "metadata": {},
   "source": [
    "# PHP 2020"
   ]
  },
  {
   "cell_type": "markdown",
   "metadata": {},
   "source": [
    "## 5. PHP Data Objects"
   ]
  },
  {
   "cell_type": "markdown",
   "metadata": {},
   "source": [
    "### 5.1 Databases"
   ]
  },
  {
   "cell_type": "markdown",
   "metadata": {},
   "source": [
    "#### MySQL"
   ]
  },
  {
   "cell_type": "markdown",
   "metadata": {},
   "source": [
    "First, let us list currently running Docker containers:"
   ]
  },
  {
   "cell_type": "code",
   "execution_count": null,
   "metadata": {},
   "outputs": [],
   "source": [
    "! docker ps"
   ]
  },
  {
   "cell_type": "markdown",
   "metadata": {},
   "source": [
    "There should be only single container for this notebook."
   ]
  },
  {
   "cell_type": "markdown",
   "metadata": {},
   "source": [
    "Now we can start the ```mysql/mysql-server:8.0``` image:"
   ]
  },
  {
   "cell_type": "code",
   "execution_count": null,
   "metadata": {},
   "outputs": [],
   "source": [
    "! docker run \\\n",
    "    --name=mysql \\\n",
    "    --net=host \\\n",
    "    --rm \\\n",
    "    --env MYSQL_ROOT_PASSWORD=root123 \\\n",
    "    --env MYSQL_DATABASE=test \\\n",
    "    --env MYSQL_USER=test \\\n",
    "    --env MYSQL_PASSWORD=test123 \\\n",
    "    -d mysql/mysql-server:8.0"
   ]
  },
  {
   "cell_type": "markdown",
   "metadata": {},
   "source": [
    "The databse container named ```mysql``` (```--name=mysql```) will run on the same network as this notebbok (```--net=host```). The contents of the database will be removed after container is stopped (```--rm```). The root password is set to ```test123``` (```--env MYSQL_ROOT_PASSWORD=root123```). Clients will use the ```test``` databse (```--env MYSQL_DATABASE=test```) and ```test``` user (```--env MYSQL_USER=test```) with password ```test123``` (```--env MYSQL_PASSWORD=test123```)."
   ]
  },
  {
   "cell_type": "markdown",
   "metadata": {},
   "source": [
    "The ```mysql``` container should now be visible:"
   ]
  },
  {
   "cell_type": "code",
   "execution_count": null,
   "metadata": {},
   "outputs": [],
   "source": [
    "! docker ps"
   ]
  },
  {
   "cell_type": "markdown",
   "metadata": {},
   "source": [
    "It takse some tmie to start the database:"
   ]
  },
  {
   "cell_type": "code",
   "execution_count": null,
   "metadata": {},
   "outputs": [],
   "source": [
    "! while ! timeout 1 bash -c \"echo > /dev/tcp/localhost/3306\" 2> /dev/null; \\\n",
    "  do \\\n",
    "    echo \"Waiting for MySQL...\"; \\\n",
    "    sleep 1; \\\n",
    "  done; \\\n",
    "  echo \"Done.\""
   ]
  },
  {
   "cell_type": "markdown",
   "metadata": {},
   "source": [
    "When done, the port ```3306``` should be opened."
   ]
  },
  {
   "cell_type": "markdown",
   "metadata": {},
   "source": [
    "If something goes wrong, logs can be checked using:"
   ]
  },
  {
   "cell_type": "code",
   "execution_count": null,
   "metadata": {},
   "outputs": [],
   "source": [
    "! docker logs mysql"
   ]
  },
  {
   "cell_type": "markdown",
   "metadata": {},
   "source": [
    "Open bash session and connect to server using docker mysql client image:"
   ]
  },
  {
   "cell_type": "markdown",
   "metadata": {},
   "source": [
    "```bash\n",
    "docker run -it --net host --rm mysql mysql -h127.0.0.1 -utest -p\n",
    "```"
   ]
  },
  {
   "cell_type": "markdown",
   "metadata": {},
   "source": [
    "You have to type ```test123``` as password."
   ]
  },
  {
   "cell_type": "markdown",
   "metadata": {},
   "source": [
    "Example commands that can be excued in MySQL:"
   ]
  },
  {
   "cell_type": "markdown",
   "metadata": {},
   "source": [
    "```sql\n",
    "-- Show available databses\n",
    "show databases;\n",
    "\n",
    "-- Select database you are interested in\n",
    "use test;\n",
    "\n",
    "-- Show available tables\n",
    "show tables;\n",
    "\n",
    "-- Create new table\n",
    "CREATE TABLE test (id INT PRIMARY KEY, value TEXT);\n",
    "\n",
    "-- Show table format\n",
    "DESCRIBE test;\n",
    "\n",
    "-- Insert some values\n",
    "INSERT INTO test VALUES (1, \"PL\"), (2, \"EN\");\n",
    "\n",
    "-- Select all rows\n",
    "SELECT * FROM test;\n",
    "\n",
    "-- Drop table\n",
    "DROP TABLE test;\n",
    "\n",
    "-- Finish session\n",
    "exit\n",
    "```"
   ]
  },
  {
   "cell_type": "markdown",
   "metadata": {},
   "source": [
    "To stop the database execute:"
   ]
  },
  {
   "cell_type": "code",
   "execution_count": null,
   "metadata": {},
   "outputs": [],
   "source": [
    "! docker container stop mysql"
   ]
  },
  {
   "cell_type": "markdown",
   "metadata": {},
   "source": [
    "### SQLite"
   ]
  },
  {
   "cell_type": "markdown",
   "metadata": {},
   "source": [
    "Open bash session and open the databse using ```sqlite3``` command:"
   ]
  },
  {
   "cell_type": "markdown",
   "metadata": {},
   "source": [
    "```bash\n",
    "sqlite3 /tmp/sqlite.db \n",
    "```"
   ]
  },
  {
   "cell_type": "markdown",
   "metadata": {},
   "source": [
    "Example commands that can be excued in SQLite:"
   ]
  },
  {
   "cell_type": "markdown",
   "metadata": {},
   "source": [
    "```sql\n",
    "-- Non-SQL command start with dot '.' - for help type:\n",
    ".help\n",
    "\n",
    "-- Show tables\n",
    ".tables\n",
    "\n",
    "-- Create dummy table (SQL)\n",
    "-- HINT: If you get 'readonly database' error check file write permissinons\n",
    "CREATE TABLE dummy (id INTEGER PRIMARY KEY, data TEXT NOT NULL);\n",
    "\n",
    "-- Show tables\n",
    ".tables\n",
    "\n",
    "-- Show command that was used to create given table\n",
    ".schema dummy\n",
    "\n",
    "-- Insert some data into table\n",
    "INSERT INTO dummy VALUES (1, \"Foo\"), (2, \"Bar\");\n",
    "\n",
    "-- Select values from table\n",
    "SELECT * FROM dummy;\n",
    "\n",
    "-- If you do not like default ouput format\n",
    ".headers on\n",
    ".mode column\n",
    "\n",
    "-- Select values from table\n",
    "SELECT * FROM dummy;\n",
    "\n",
    "-- Drop table\n",
    "DROP TABLE dummy;\n",
    "\n",
    "-- Exit from database\n",
    ".quit\n",
    "```"
   ]
  },
  {
   "cell_type": "markdown",
   "metadata": {},
   "source": [
    "Clenaup:"
   ]
  },
  {
   "cell_type": "code",
   "execution_count": null,
   "metadata": {},
   "outputs": [],
   "source": [
    "! rm -f /tmp/sqlite.db "
   ]
  }
 ],
 "metadata": {
  "kernelspec": {
   "display_name": "Python 3",
   "language": "python",
   "name": "python3"
  },
  "language_info": {
   "codemirror_mode": {
    "name": "ipython",
    "version": 3
   },
   "file_extension": ".py",
   "mimetype": "text/x-python",
   "name": "python",
   "nbconvert_exporter": "python",
   "pygments_lexer": "ipython3",
   "version": "3.8.3"
  }
 },
 "nbformat": 4,
 "nbformat_minor": 4
}
