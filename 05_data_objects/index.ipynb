{
 "cells": [
  {
   "cell_type": "markdown",
   "metadata": {},
   "source": [
    "# PHP 2020"
   ]
  },
  {
   "cell_type": "markdown",
   "metadata": {},
   "source": [
    "## 5. PHP Data Objects"
   ]
  },
  {
   "cell_type": "markdown",
   "metadata": {},
   "source": [
    "Links:\n",
    "\n",
    "- [PHP Data Objects](https://www.php.net/manual/en/book.pdo.php)\n",
    "- [MySQL](https://www.mysql.com/)\n",
    "- [SQLite](https://www.sqlite.org/index.html)\n",
    "- [SQL CREATE TABLE](https://www.w3schools.com/sql/sql_create_table.asp)\n",
    "- [SQL INSERT INTO](https://www.w3schools.com/sql/sql_insert.asp)\n",
    "- [SQL UPDATE](https://www.w3schools.com/sql/sql_update.asp)\n",
    "- [SQL SELECT](https://www.w3schools.com/sql/sql_select.asp)"
   ]
  },
  {
   "cell_type": "markdown",
   "metadata": {},
   "source": [
    "Tutorials:\n",
    "\n",
    "1. [Databases](01_databases/index.ipynb)\n",
    "2. [PDO](02_pdo/index.ipynb)"
   ]
  },
  {
   "cell_type": "markdown",
   "metadata": {},
   "source": [
    "Exercises:\n",
    "\n",
    "3. [Exercise](03_exercise/index.ipynb)"
   ]
  }
 ],
 "metadata": {
  "kernelspec": {
   "display_name": "Python 3",
   "language": "python",
   "name": "python3"
  },
  "language_info": {
   "codemirror_mode": {
    "name": "ipython",
    "version": 3
   },
   "file_extension": ".py",
   "mimetype": "text/x-python",
   "name": "python",
   "nbconvert_exporter": "python",
   "pygments_lexer": "ipython3",
   "version": "3.8.3"
  }
 },
 "nbformat": 4,
 "nbformat_minor": 4
}
